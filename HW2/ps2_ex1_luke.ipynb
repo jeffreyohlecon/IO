{
 "cells": [
  {
   "cell_type": "markdown",
   "metadata": {},
   "source": [
    "# Single-agent dynamic discrete choice estimation\n",
    "\n",
    "Conroy Lau\n",
    "\n",
    "This version: December 12, 2023"
   ]
  },
  {
   "cell_type": "code",
   "execution_count": 54,
   "metadata": {},
   "outputs": [
    {
     "name": "stdout",
     "output_type": "stream",
     "text": [
      "Requirement already satisfied: pandas in /opt/homebrew/lib/python3.13/site-packages (2.2.3)\n",
      "Requirement already satisfied: numpy>=1.26.0 in /opt/homebrew/lib/python3.13/site-packages (from pandas) (2.2.0)\n",
      "Requirement already satisfied: python-dateutil>=2.8.2 in /Users/ljmotley/Library/Python/3.13/lib/python/site-packages (from pandas) (2.9.0.post0)\n",
      "Requirement already satisfied: pytz>=2020.1 in /opt/homebrew/lib/python3.13/site-packages (from pandas) (2025.1)\n",
      "Requirement already satisfied: tzdata>=2022.7 in /opt/homebrew/lib/python3.13/site-packages (from pandas) (2025.1)\n",
      "Requirement already satisfied: six>=1.5 in /Users/ljmotley/Library/Python/3.13/lib/python/site-packages (from python-dateutil>=2.8.2->pandas) (1.17.0)\n",
      "\n",
      "\u001b[1m[\u001b[0m\u001b[34;49mnotice\u001b[0m\u001b[1;39;49m]\u001b[0m\u001b[39;49m A new release of pip is available: \u001b[0m\u001b[31;49m24.3.1\u001b[0m\u001b[39;49m -> \u001b[0m\u001b[32;49m25.0.1\u001b[0m\n",
      "\u001b[1m[\u001b[0m\u001b[34;49mnotice\u001b[0m\u001b[1;39;49m]\u001b[0m\u001b[39;49m To update, run: \u001b[0m\u001b[32;49mpython3.13 -m pip install --upgrade pip\u001b[0m\n",
      "Note: you may need to restart the kernel to use updated packages.\n",
      "Requirement already satisfied: matplotlib in /opt/homebrew/lib/python3.13/site-packages (3.10.0)\n",
      "Requirement already satisfied: contourpy>=1.0.1 in /opt/homebrew/lib/python3.13/site-packages (from matplotlib) (1.3.1)\n",
      "Requirement already satisfied: cycler>=0.10 in /opt/homebrew/lib/python3.13/site-packages (from matplotlib) (0.12.1)\n",
      "Requirement already satisfied: fonttools>=4.22.0 in /opt/homebrew/lib/python3.13/site-packages (from matplotlib) (4.56.0)\n",
      "Requirement already satisfied: kiwisolver>=1.3.1 in /opt/homebrew/lib/python3.13/site-packages (from matplotlib) (1.4.8)\n",
      "Requirement already satisfied: numpy>=1.23 in /opt/homebrew/lib/python3.13/site-packages (from matplotlib) (2.2.0)\n",
      "Requirement already satisfied: packaging>=20.0 in /Users/ljmotley/Library/Python/3.13/lib/python/site-packages (from matplotlib) (24.2)\n",
      "Requirement already satisfied: pillow>=8 in /opt/homebrew/lib/python3.13/site-packages (from matplotlib) (11.1.0)\n",
      "Requirement already satisfied: pyparsing>=2.3.1 in /opt/homebrew/lib/python3.13/site-packages (from matplotlib) (3.2.1)\n",
      "Requirement already satisfied: python-dateutil>=2.7 in /Users/ljmotley/Library/Python/3.13/lib/python/site-packages (from matplotlib) (2.9.0.post0)\n",
      "Requirement already satisfied: six>=1.5 in /Users/ljmotley/Library/Python/3.13/lib/python/site-packages (from python-dateutil>=2.7->matplotlib) (1.17.0)\n",
      "\n",
      "\u001b[1m[\u001b[0m\u001b[34;49mnotice\u001b[0m\u001b[1;39;49m]\u001b[0m\u001b[39;49m A new release of pip is available: \u001b[0m\u001b[31;49m24.3.1\u001b[0m\u001b[39;49m -> \u001b[0m\u001b[32;49m25.0.1\u001b[0m\n",
      "\u001b[1m[\u001b[0m\u001b[34;49mnotice\u001b[0m\u001b[1;39;49m]\u001b[0m\u001b[39;49m To update, run: \u001b[0m\u001b[32;49mpython3.13 -m pip install --upgrade pip\u001b[0m\n",
      "Note: you may need to restart the kernel to use updated packages.\n",
      "Requirement already satisfied: scipy in /opt/homebrew/lib/python3.13/site-packages (1.15.1)\n",
      "Requirement already satisfied: numpy<2.5,>=1.23.5 in /opt/homebrew/lib/python3.13/site-packages (from scipy) (2.2.0)\n",
      "\n",
      "\u001b[1m[\u001b[0m\u001b[34;49mnotice\u001b[0m\u001b[1;39;49m]\u001b[0m\u001b[39;49m A new release of pip is available: \u001b[0m\u001b[31;49m24.3.1\u001b[0m\u001b[39;49m -> \u001b[0m\u001b[32;49m25.0.1\u001b[0m\n",
      "\u001b[1m[\u001b[0m\u001b[34;49mnotice\u001b[0m\u001b[1;39;49m]\u001b[0m\u001b[39;49m To update, run: \u001b[0m\u001b[32;49mpython3.13 -m pip install --upgrade pip\u001b[0m\n",
      "Note: you may need to restart the kernel to use updated packages.\n",
      "Requirement already satisfied: cyipopt in /opt/homebrew/lib/python3.13/site-packages (1.5.0)\n",
      "Requirement already satisfied: numpy>=1.21.5 in /opt/homebrew/lib/python3.13/site-packages (from cyipopt) (2.2.0)\n",
      "\n",
      "\u001b[1m[\u001b[0m\u001b[34;49mnotice\u001b[0m\u001b[1;39;49m]\u001b[0m\u001b[39;49m A new release of pip is available: \u001b[0m\u001b[31;49m24.3.1\u001b[0m\u001b[39;49m -> \u001b[0m\u001b[32;49m25.0.1\u001b[0m\n",
      "\u001b[1m[\u001b[0m\u001b[34;49mnotice\u001b[0m\u001b[1;39;49m]\u001b[0m\u001b[39;49m To update, run: \u001b[0m\u001b[32;49mpython3.13 -m pip install --upgrade pip\u001b[0m\n",
      "Note: you may need to restart the kernel to use updated packages.\n"
     ]
    }
   ],
   "source": [
    "%pip install pandas --break-system-packages\n",
    "%pip install matplotlib --break-system-packages\n",
    "%pip install scipy --break-system-packages\n",
    "%pip install cyipopt --break-system-packages"
   ]
  },
  {
   "cell_type": "code",
   "execution_count": 55,
   "metadata": {},
   "outputs": [],
   "source": [
    "import os\n",
    "import copy\n",
    "import random\n",
    "import array\n",
    "\n",
    "import numpy as np\n",
    "import matplotlib.pyplot as plt\n",
    "import pandas as pd\n",
    "\n",
    "from scipy.optimize import minimize\n",
    "from numpy.linalg import norm\n",
    "from numpy import ndarray\n",
    "from cyipopt import minimize_ipopt"
   ]
  },
  {
   "cell_type": "markdown",
   "metadata": {},
   "source": [
    "# General model setup\n",
    "\n",
    "**Reference: Chapter 2.3.1**\n",
    "\n",
    "The model's primitives are as follows.\n",
    "\n",
    "- Set of alternatives: $\\mathcal{J} \\equiv \\{1, \\ldots, J\\}$.\n",
    "- State variables: $\\mathcal{S}$, with observable component $x_t \\in \\mathcal{X}$ and unobservable component $\\epsilon_t \\equiv \\{\\epsilon_{j,t}\\}_{j \\in \\mathcal{J}}$.\n",
    "- The discount factor: $\\beta$.\n",
    "- Parameter that governs the utility function: $\\theta$.\n",
    "- As a result, the utility of choosing action $j$ at state $s_t$ is given by\n",
    "  $$\n",
    "    u(s_t, j; \\theta) \\equiv \\overline{u}_j(x_t; \\theta) + \\epsilon_{j,t}.\n",
    "  $$\n",
    "- Parameter that governs the transition probabilities: $\\varphi$."
   ]
  },
  {
   "cell_type": "markdown",
   "metadata": {},
   "source": [
    "# Rust (1987)\n",
    "\n",
    "To illustrate the estimation methods, we will use the seminal Rust (1987) bus replacement model. \n",
    "\n",
    "We will mostly follow the original model specifications, with a few minor changes as follows.\n",
    "\n",
    "- Set of alternatives: $\\mathcal{J} \\equiv \\{1, 2\\}$.\n",
    "  - Choice 1: maintain bus engine.\n",
    "  - Choice 2: replace bus engine.\n",
    "- State variables:\n",
    "  - Observable state variables: $x_t \\in \\{1, \\ldots, X\\}$ are the bus mileage. In this notebook, we set $X = 10$.\n",
    "  - Unobservable state variables: $\\epsilon_{jt}$ are assumed to follow a mean 0 T1EV distribution for any $j \\in \\mathcal{J}$ and $t$.\n",
    "- Discount factor is assumed to be known. We set this as $\\beta = 0.95$. Note that Rust (1987) uses $\\beta = 0.9999$ in his main specification.\n",
    "- The deterministic component of the utility (i.e., $\\overline{u}_j(x_t; \\theta)$) are parameterized as\n",
    "  - Choice 1: $\\overline{u}_1(x_t; \\theta) = \\theta_1 x_t$.\n",
    "  - Choice 2: $\\overline{u}_2(x_t; \\theta) = \\theta_2$.\n",
    "  - We can interpret $\\theta_1$ as the maintenance cost and $\\theta_2$ as the replacement cost.\n",
    "- The state transition matrix are given as follows.\n",
    "  - When choice 1 is chosen, the transition matrix follows a multinomial distribution with $\\varphi_1 = 0.3$ and $\\varphi_2 = 0.6$. The transition matrix is given by:\n",
    "    $$\n",
    "    \\begin{pmatrix}\n",
    "        \\varphi_1 & \\varphi_2 & 1 - \\varphi_1 - \\varphi_2 & 0 & 0 & \\cdots & 0 & 0 \\\\\n",
    "        0 & \\varphi_1 & \\varphi_2 & 1 - \\varphi_1 - \\varphi_2 & 0 & \\cdots & 0 & 0\\\\\n",
    "        0 & 0 & \\varphi_1 & \\varphi_2 & 1 - \\varphi_1 - \\varphi_2 & \\cdots & 0 & 0 \\\\\n",
    "        0 & 0 & 0 & 0 & 0 & \\cdots & 0 & 0 \\\\\n",
    "        \\vdots & \\vdots & \\vdots & \\vdots & \\vdots & \\ddots & \\vdots & \\vdots \\\\ \n",
    "        0 & 0 & 0 & 0 & 0 & \\cdots & \\varphi_1 & 1 - \\varphi_1 \\\\ \n",
    "        0 & 0 & 0 & 0 & 0 & \\cdots & 0 & 1\n",
    "    \\end{pmatrix}\n",
    "    $$\n",
    "  - When choice 2 is chosen, the states are reset to the initial state.\n",
    "    $$\n",
    "        \\begin{pmatrix}\n",
    "            1 & 0 & 0 & \\cdots & 0 \\\\\n",
    "            1 & 0 & 0 & \\cdots & 0 \\\\\n",
    "            \\vdots & \\vdots & \\vdots & \\ddots & \\vdots \\\\\n",
    "            1 & 0 & 0 & \\cdots & 0 \n",
    "        \\end{pmatrix}\n",
    "    $$"
   ]
  },
  {
   "cell_type": "markdown",
   "metadata": {},
   "source": [
    "# Primitive\n",
    "\n",
    "The object `dgp` stores the model primitives. \n",
    "\n",
    "Since we parameterize the utility functions completely by $\\theta$, the object is going to store $\\theta$ instead of the entire vector of utilities."
   ]
  },
  {
   "cell_type": "code",
   "execution_count": 56,
   "metadata": {},
   "outputs": [],
   "source": [
    "class dgp:\n",
    "    \"\"\"Creates the primitives of the dynamic discrete choice model.\n",
    "        \n",
    "        Parameters\n",
    "        ----------\n",
    "        β : `float`\n",
    "            The discount factor.\n",
    "        u : `nd_array`\n",
    "            A matrix of utility over all the states and choices.\n",
    "        f : `nd_array`\n",
    "            Transition matrices for all the actions.\n",
    "        J : `int`\n",
    "            Number of actions.\n",
    "        dx : `int`\n",
    "            Number of states.\n",
    "    \"\"\"\n",
    "    def __init__(\n",
    "        self, \n",
    "        β: float,\n",
    "        u: ndarray,\n",
    "        F: ndarray,\n",
    "        dx: int,\n",
    "        J: int):\n",
    "        \n",
    "        self.β = β\n",
    "        self.u = u\n",
    "        self.F = F\n",
    "        self.dx = dx\n",
    "        self.J = J"
   ]
  },
  {
   "cell_type": "markdown",
   "metadata": {},
   "source": [
    "Let's create the primitive object one-by-one. First, set $\\beta = 0.9$, $\\theta = (-0.2, 5)$, $|\\mathcal{X}| = 10$ and $|\\mathcal{J}| = 2$."
   ]
  },
  {
   "cell_type": "code",
   "execution_count": 57,
   "metadata": {},
   "outputs": [],
   "source": [
    "β = 0.95\n",
    "θ = [-0.2, 5]\n",
    "dx = 10\n",
    "J = 2"
   ]
  },
  {
   "cell_type": "markdown",
   "metadata": {},
   "source": [
    "Next, we can let `utility` be the deterministic part of the utility function that depends on our pre-defined parameters $\\theta$, as well as the choice and state. Since the deterministic part of the utility is completely characterized by $\\theta$, $x$, and $a$, we can compute them all in advance."
   ]
  },
  {
   "cell_type": "code",
   "execution_count": 58,
   "metadata": {},
   "outputs": [],
   "source": [
    "def utility(\n",
    "    x: int, \n",
    "    a: int,\n",
    "    θ: list):\n",
    "    \"\"\"Calculates the utility at a given action and state.\n",
    "        \n",
    "        Parameters\n",
    "        ----------\n",
    "            x : `int`\n",
    "                State.\n",
    "            a : `int`\n",
    "                Action.\n",
    "            θ : `list`\n",
    "                Utility parameters.\n",
    "    \"\"\"\n",
    "    \n",
    "    if a == 0:\n",
    "        u = x * θ[0] + θ[1]\n",
    "    elif a == 1:\n",
    "        u = 0\n",
    "        \n",
    "    return u\n",
    "\n",
    "def utility_matrix(\n",
    "    dx: int,\n",
    "    J: int,\n",
    "    θ: list):\n",
    "    \"\"\"Returns the matrix of utilites over all states and choices.\n",
    "        \n",
    "        Each row corresponds to a state.\n",
    "        \n",
    "        Each column corresponds to an action.\n",
    "        \n",
    "        Parameters\n",
    "        ----------\n",
    "            dx : `int`\n",
    "                Number of states.\n",
    "            J : `int`\n",
    "                Number of actions.\n",
    "            θ: `list`\n",
    "                Utility parameters.\n",
    "    \"\"\"\n",
    "    \n",
    "    umat = np.zeros((dx, J))\n",
    "    \n",
    "    for a in range(J):\n",
    "        for x in range(dx):\n",
    "            umat[x, a] = utility(x, a, θ)\n",
    "            \n",
    "    return umat\n",
    "\n",
    "umat = utility_matrix(dx, J, θ)"
   ]
  },
  {
   "cell_type": "markdown",
   "metadata": {},
   "source": [
    "Now, let's create the transition matrix, i.e., $\\mathrm{Pr}[dx_{t+1}|x_t, a_t = j, \\varphi]$."
   ]
  },
  {
   "cell_type": "code",
   "execution_count": 59,
   "metadata": {},
   "outputs": [],
   "source": [
    "def transition(\n",
    "    f: list,\n",
    "    dx: int):\n",
    "    \"\"\"Creates the transition matrices.\n",
    "        \n",
    "       This function creates the transition matrices for both actions.\n",
    "       The parameter `f` is only relevant for constructing the \n",
    "       transition matrix for the action j = 0.\n",
    "       \n",
    "       Parameters\n",
    "       ----------\n",
    "           f : `list`\n",
    "               Parameters for the multinomial distribution for j = 0.\n",
    "           dx : `int`\n",
    "               Number of states.\n",
    "    \"\"\"\n",
    "    \n",
    "    # Initialize the two matrices\n",
    "    F0 = np.zeros((dx, dx))\n",
    "    F1 = copy.copy(F0)\n",
    "    \n",
    "    # Transition matrix for maintaining the engine\n",
    "    for i in range(dx):\n",
    "        if i < dx - 2:\n",
    "            F0[i, i] = f[0]\n",
    "            F0[i, i + 1] = f[1]\n",
    "            F0[i, i + 2] = 1 - f[0] - f[1]\n",
    "        elif i == dx - 2:\n",
    "            F0[i, i] = f[0]\n",
    "            F0[i, i + 1] = 1 - f[0]\n",
    "        else:\n",
    "            F0[i, i] = 1\n",
    "    \n",
    "    # Transition matrix for replacing the engine\n",
    "    F1[:, 0] = 1\n",
    "        \n",
    "    return F0, F1\n",
    "\n",
    "f = [0.3, 0.6]\n",
    "F = transition(f, dx)"
   ]
  },
  {
   "cell_type": "markdown",
   "metadata": {},
   "source": [
    "With the primitive objects defined, we can pass them to the `dgp` object as follows."
   ]
  },
  {
   "cell_type": "code",
   "execution_count": 60,
   "metadata": {},
   "outputs": [],
   "source": [
    "primitive = dgp(β, umat, F, dx, J)"
   ]
  },
  {
   "cell_type": "markdown",
   "metadata": {},
   "source": [
    "# Bellman equation representation\n",
    "\n",
    "**Reference: chapter 2.3.1.3**\n",
    "\n",
    "- Let $\\mathrm{Pr}[dx_{t+1}|x_t, a_t = j, \\varphi]$ be the transition probability.\n",
    "- Let $\\overline{v}_j(x_t; \\theta, \\varphi)$ be the deterministic part of the value function for choosing choice $j$ at state $x_t$. Then, we can write\n",
    "  $$\n",
    "    \\overline{v}_j(x_t; \\theta, \\varphi)\n",
    "    = \\overline{u}_j(x_t; \\theta) + \n",
    "        \\beta \\int \n",
    "            \\ln \\left( \\sum_{k \\in \\mathcal{J}}\n",
    "                \\exp\\{\\overline{v}_k(x_{t+1}; \\theta, \\varphi)\\}\n",
    "                \\right) \\mathrm{Pr}[dx_{t+1}|x_t, a_t = j, \\varphi].\n",
    "  $$\n",
    "- The function `csvf_state` codes the choice-specific value function at state `x` with the given vector of value functions `V`."
   ]
  },
  {
   "cell_type": "markdown",
   "metadata": {},
   "source": [
    "# Fixed point representation\n",
    "\n",
    "\n",
    "- Let $\\overline{w}(x_t; \\theta, \\varphi) \\equiv \\ln(\\sum_{k \\in \\mathcal{J}} \\exp\\{\\overline{v}_k(x_k; \\theta, \\varphi)\\})$.\n",
    "- The fixed-point equation can be written as follows:\n",
    "  $$\n",
    "      \\begin{pmatrix}\n",
    "          \\overline{v}_j(1; \\theta, \\varphi) \\\\ \n",
    "          \\vdots \\\\\n",
    "          \\overline{v}_j(X; \\theta, \\varphi)\n",
    "      \\end{pmatrix}\n",
    "      = \n",
    "      \\begin{pmatrix}\n",
    "          \\overline{u}_j(1; \\theta) \\\\ \n",
    "          \\vdots \\\\ \n",
    "          \\overline{u}_j(X; \\theta)\n",
    "      \\end{pmatrix}\n",
    "      + \\beta \\mathbf{P}[x_{t+1} | x_t, a_t; \\varphi]\n",
    "      \\begin{pmatrix}\n",
    "          \\overline{w}(1; \\theta, \\varphi) \\\\ \n",
    "          \\vdots \\\\ \n",
    "          \\overline{w}(X; \\theta, \\varphi)\n",
    "      \\end{pmatrix},\n",
    "  $$\n",
    "  for each $j \\in \\mathcal{J}$.\n",
    "- The above is a fixed-point equation. For a given guess of $\\{\\overline{w}(x; \\theta, \\varphi)\\}_{x \\in \\mathcal{X}}$, one can update $\\{\\overline{v}_j(x; \\theta, \\varphi)\\}_{j \\in \\mathcal{J}, x \\in \\mathcal{X}}$, and then update $\\{\\overline{w}(x; \\theta, \\varphi)\\}_{x \\in \\mathcal{X}}$. One can update this via the fixed point iteration procedure.\n",
    "- The function `vf` computes $\\{\\overline{w}(x; \\theta, \\varphi)\\}_{x \\in \\mathcal{X}}$ for a given of $\\{\\overline{v}_j(x; \\theta, \\varphi)\\}_{j \\in \\mathcal{J}, x \\in \\mathcal{X}}$."
   ]
  },
  {
   "cell_type": "code",
   "execution_count": 61,
   "metadata": {},
   "outputs": [],
   "source": [
    "def csvf_state(dgp, V, x):\n",
    "    \"\"\"Choice-specific value function at a particular state.\n",
    "        \n",
    "        Parameters\n",
    "        ----------\n",
    "            dgp : `dgp`\n",
    "                The primitive of the DDC model.\n",
    "            V : `ndarray`\n",
    "                A vector of value function.\n",
    "            x : `int`\n",
    "                State.\n",
    "    \"\"\"\n",
    "    \n",
    "    w = [dgp.u[x, a] + dgp.β * np.matmul(dgp.F[a][x, :], V) for a in range(dgp.J)]\n",
    "    \n",
    "    return w\n",
    "\n",
    "def csvf(dgp, V):\n",
    "    \"\"\"Choice-specific value functions across all states.\n",
    "    \n",
    "        The function stacks the output of `csvf_state` over all states.\n",
    "        \n",
    "        Parameters\n",
    "        ----------\n",
    "            dgp : `dgp`\n",
    "                The primitive of the DDC model.\n",
    "            V : `ndarray`\n",
    "                A vector of value function.\n",
    "    \"\"\"\n",
    "    \n",
    "    wmat = np.zeros((dgp.dx, dgp.J))\n",
    "    \n",
    "    for x in range(dgp.dx):\n",
    "        wmat[x, :] = csvf_state(dgp, V, x)    \n",
    "    \n",
    "    return wmat\n",
    "\n",
    "def vf(w):\n",
    "    \"\"\"Computes the integrated value function.\n",
    "    \n",
    "        This function computes the integrated value function based on the \n",
    "        choice-specific value functions.\n",
    "        \n",
    "        Parameters\n",
    "        ----------\n",
    "            w : `ndarray`\n",
    "                A vector of value functions.\n",
    "    \"\"\"\n",
    "    \n",
    "    wmax = np.amax(w)\n",
    "    v = np.log(np.exp(w[:, 0] - wmax) + np.exp(w[:, 1] - wmax))\n",
    "    v += wmax\n",
    "    \n",
    "    return v"
   ]
  },
  {
   "cell_type": "markdown",
   "metadata": {},
   "source": [
    "With the value functions being coded, we can code the value function iteration procedure that find the fixed point $\\{\\overline{w}(x; \\theta, \\varphi)\\}_{x \\in \\mathcal{X}}$. "
   ]
  },
  {
   "cell_type": "code",
   "execution_count": 62,
   "metadata": {},
   "outputs": [],
   "source": [
    "def vfi(dgp, ϵ = 1e-8):\n",
    "    \"\"\"Value function iteration.\n",
    "        \n",
    "        Takes the DGP object and returns the fixed-point of the value function equation.\n",
    "        \n",
    "        Parameters\n",
    "        ----------\n",
    "            dgp : `dgp`\n",
    "                The primitives of the DDC model.\n",
    "            ϵ : `float`\n",
    "                The tolerance level.\n",
    "    \"\"\"\n",
    "    \n",
    "    # Initialize - construct utility, transition matrices, and value function\n",
    "    V0 = np.zeros(dgp.dx)\n",
    "\n",
    "    # Iterate until convergence\n",
    "    gap = 10000.\n",
    "    iter = 1\n",
    "    while gap > ϵ:\n",
    "        w = csvf(dgp, V0)\n",
    "        V1 = vf(w)\n",
    "        gap = norm(V0 - V1)\n",
    "        V0 = V1\n",
    "        iter += 1\n",
    "        \n",
    "    return V0"
   ]
  },
  {
   "cell_type": "markdown",
   "metadata": {},
   "source": [
    "We can get the value function using the model primitives as follows."
   ]
  },
  {
   "cell_type": "code",
   "execution_count": 63,
   "metadata": {},
   "outputs": [],
   "source": [
    "v_true = vfi(primitive)"
   ]
  },
  {
   "cell_type": "markdown",
   "metadata": {},
   "source": [
    "# Conditional choice probability\n",
    "\n",
    "- Under the assumption that $\\epsilon_{jt}$ follows a mean 0 T1EV distribution, the conditional choice probability of choosing $j \\in \\mathcal{J}$ at state $x_t \\in \\mathcal{X}$ is\n",
    "  $$\n",
    "        \\mathrm{Pr}[a_t = j | x_t; \\theta, \\varphi]\n",
    "        = \n",
    "        \\frac{\\exp\\{\\overline{v}_j(x_t; \\theta, \\varphi)\\}}{\n",
    "        \\sum_{k\\in \\mathcal{J}} \\exp\\{\\overline{v}_k(x_t; \\theta, \\varphi)\\}}.\n",
    "  $$"
   ]
  },
  {
   "cell_type": "code",
   "execution_count": 64,
   "metadata": {},
   "outputs": [],
   "source": [
    "def prob_from_dgp(dgp, V):\n",
    "    \"\"\"Conditional choice probability of maintaining the engine.\n",
    "    \n",
    "        Compute the conditional choice probability for maintaining the engine.\n",
    "        \n",
    "        Parameters\n",
    "        ----------\n",
    "            dgp : `dgp`\n",
    "                The primitives of the DDC model.\n",
    "            V : `ndarray`\n",
    "                A vector of value functions.\n",
    "    \"\"\"\n",
    "    \n",
    "    # Compute the choice probability and take the difference\n",
    "    w = csvf(dgp, V)\n",
    "    wmax = np.amax(w)\n",
    "    wdifexp = np.exp(w - wmax)\n",
    "    \n",
    "    # Compute the conditional choice probability\n",
    "    prob = np.zeros((dgp.dx, dgp.J))\n",
    "    wsum = np.sum(wdifexp, axis = 1)\n",
    "    for a in range(dgp.J):\n",
    "        prob[:, a] = wdifexp[:, a]/wsum\n",
    "        \n",
    "    return prob"
   ]
  },
  {
   "cell_type": "markdown",
   "metadata": {},
   "source": [
    "We can compute the probability of maintaining the engine as follows."
   ]
  },
  {
   "cell_type": "code",
   "execution_count": 65,
   "metadata": {},
   "outputs": [],
   "source": [
    "prob_true = prob_from_dgp(primitive, v_true)\n",
    "prob_maintain_true = prob_true[:, 0]"
   ]
  },
  {
   "cell_type": "markdown",
   "metadata": {},
   "source": [
    "# Simulate data\n",
    "\n",
    "With the functions for the value function and the primitives of the models defined, we are able to simulate data from it. \n",
    "\n",
    "Let there be $N$ (independent) buses and $T$ periods. The following function simulates data and stores the results as a dataframe."
   ]
  },
  {
   "cell_type": "code",
   "execution_count": 66,
   "metadata": {},
   "outputs": [],
   "source": [
    "def draw(dgp, V, N, T):\n",
    "    \"\"\"Simulate Rust data.\n",
    "    \n",
    "        Draw data with N buses and T periods based on the `dgp` and `ddc` objects.\n",
    "        \n",
    "        Parameters\n",
    "        ----------\n",
    "            dgp : `dgp`\n",
    "                The primitives of the DDC model.\n",
    "            V : `ndarray`\n",
    "                A vector of value functions.\n",
    "            N : `int`\n",
    "                Number of buses.\n",
    "            T : `int`\n",
    "                Number of periods.\n",
    "    \"\"\"\n",
    "    action = [] #np.zeros((N, T - 1))\n",
    "    state = []\n",
    "    ids = []\n",
    "    ts = [] \n",
    "    \n",
    "    for i in range(N):\n",
    "        ai = np.zeros(T)\n",
    "        si = np.zeros(T, dtype = int)\n",
    "        si[0] = 0\n",
    "        ai[0] = None\n",
    "        \n",
    "        for t in range(T - 1):\n",
    "            # Update state\n",
    "            uf = np.random.uniform()\n",
    "            if (t > 0) & (ai[t] == 0) | (t == 0):\n",
    "                st = si[t]\n",
    "                f0 = dgp.F[0][st]\n",
    "                if si[t] < dgp.dx - 2:\n",
    "                    if uf < f0[st]:\n",
    "                        si[t + 1] = si[t]\n",
    "                    elif (uf >= f0[st]) & (uf < (f0[st] + f0[st + 1])):\n",
    "                        si[t + 1] = si[t] + 1\n",
    "                    else:\n",
    "                        si[t + 1] = si[t] + 2\n",
    "                elif si[t] == dgp.dx - 2:\n",
    "                    if uf < f0[st]:\n",
    "                        si[t + 1] = si[t]\n",
    "                    else:\n",
    "                        si[t + 1] = si[t] + 1\n",
    "                else:\n",
    "                    si[t + 1] = si[t]\n",
    "            elif ai[t] == 1:\n",
    "                si[t + 1] = 0\n",
    "                \n",
    "            # Compute utility at this state and choose utiliy-maximizing action\n",
    "            us = csvf_state(dgp, V, int(si[t + 1]))\n",
    "            us += np.random.gumbel(-.577, size = dgp.J)\n",
    "            ai[t + 1] = np.argmax(us)\n",
    "            \n",
    "        # Append data\n",
    "        state = np.concatenate((state, si))\n",
    "        action = np.concatenate((action, ai))\n",
    "        ids = np.concatenate((ids, np.repeat(i + 1, T)))\n",
    "        ts = np.concatenate((ts, range(0, T)))\n",
    "\n",
    "    df = pd.DataFrame({'i': ids, 't': ts, 'action': action, 'state': state})\n",
    "    \n",
    "    return df"
   ]
  },
  {
   "cell_type": "markdown",
   "metadata": {},
   "source": [
    "Let's simulate data with 30 periods and 30 buses."
   ]
  },
  {
   "cell_type": "code",
   "execution_count": 67,
   "metadata": {},
   "outputs": [],
   "source": [
    "N = 30\n",
    "T = 30\n",
    "\n",
    "np.random.seed(1)\n",
    "df = draw(primitive, v_true, N, T)"
   ]
  },
  {
   "cell_type": "markdown",
   "metadata": {},
   "source": [
    "Let's estimate the probability of maintaining the engine based on the simulated data. The following function estimates the probability using the simple frequency estimator."
   ]
  },
  {
   "cell_type": "code",
   "execution_count": 68,
   "metadata": {},
   "outputs": [],
   "source": [
    "def estimate_ccp(data, dgp):\n",
    "    \"\"\"Estimates conditional choice probability of maintaining the engine\n",
    "        This is estimated using the simple frequency estimator.\n",
    "        \n",
    "        Parameters\n",
    "        ----------\n",
    "        data : `DataFrame`\n",
    "            The data that contains the actions and states.\n",
    "        dgp : `dgp`\n",
    "            The primitives of the DDC model.\n",
    "    \"\"\"\n",
    "    \n",
    "    phat = np.zeros((dgp.dx, dgp.J))\n",
    "    \n",
    "    for x in range(dgp.dx):\n",
    "        data_x = data.loc[(data.t > 0) & (data.state == x)]\n",
    "        for a in range(dgp.J):\n",
    "            phat[x, a] = np.mean(data_x.action == a)\n",
    "    \n",
    "    return phat"
   ]
  },
  {
   "cell_type": "code",
   "execution_count": 69,
   "metadata": {},
   "outputs": [],
   "source": [
    "phat = estimate_ccp(df, primitive)\n",
    "phat_maintain = phat[:, 0]"
   ]
  },
  {
   "cell_type": "markdown",
   "metadata": {},
   "source": [
    "Let's compare the probability of choosing engine replacement from the simulated data against the probability specified by the model primitives."
   ]
  },
  {
   "cell_type": "code",
   "execution_count": 70,
   "metadata": {},
   "outputs": [
    {
     "data": {
      "text/plain": [
       "<matplotlib.legend.Legend at 0x13e927890>"
      ]
     },
     "execution_count": 70,
     "metadata": {},
     "output_type": "execute_result"
    },
    {
     "data": {
      "image/png": "[encoded data removed]",
      "text/plain": [
       "<Figure size 640x480 with 1 Axes>"
      ]
     },
     "metadata": {},
     "output_type": "display_data"
    }
   ],
   "source": [
    "fig, ax = plt.subplots()  \n",
    "xs = range(primitive.dx)\n",
    "ax.plot(xs, prob_maintain_true, label = 'True')\n",
    "ax.plot(xs, phat_maintain, label = 'Estimated')\n",
    "ax.set_xlabel('State') \n",
    "ax.set_ylabel('Probability of maintaining engine')\n",
    "ax.legend()"
   ]
  },
  {
   "cell_type": "markdown",
   "metadata": {},
   "source": [
    "# Estimation 1: Nested fixed-point algorithm\n",
    "\n",
    "The nested fixed-point algorithm (NFXP) contains two loops. \n",
    "- **Outer loop**: For a given vector of value functions $V$, find $\\widehat\\theta$ that maximizes the likelihood.\n",
    "- **Inner loop**: For a given utility parameter $\\theta$, find $\\widehat{V}$ the fixed-point.\n",
    "\n",
    "Here, we estimate the transition matrix first, and then take it as given when running NFXP. Hence, we will be maximizing the (partial) log-likelihood instead of the full log-likelihood.\n",
    "\n",
    "The function to estimate the transition matrix is as follows."
   ]
  },
  {
   "cell_type": "code",
   "execution_count": 71,
   "metadata": {},
   "outputs": [],
   "source": [
    "def estimate_transition_maintain(data, dgp):\n",
    "    \"\"\"Estimated the transition matrix for maintaining bus engine.\n",
    "        \n",
    "        Parameters\n",
    "        ----------\n",
    "        data : `DataFrame`\n",
    "            The data that contains the actions and states.\n",
    "        dgp : `dgp`\n",
    "            The primitives of the DDC model.\n",
    "    \"\"\"\n",
    "    \n",
    "    # Estimate Δstate for each of the states\n",
    "    data_tmp = copy.copy(data)\n",
    "    data_tmp['state_shift'] = data_tmp.groupby('i')['state'].shift(-1)\n",
    "    data_tmp['state_dif'] = data_tmp['state_shift'] - data_tmp['state']\n",
    "    data_sub = data_tmp.loc[(data_tmp.action == 0) & (data_tmp.t != max(data_tmp.t))]\n",
    "    \n",
    "    # Construct the transition matrix for a = 0\n",
    "    unique_dif = pd.unique(data_sub['state_dif'])\n",
    "    probs = np.zeros(len(unique_dif))\n",
    "    for idu, val in enumerate(unique_dif):\n",
    "        probs[idu] = np.mean(data_sub['state_dif'] == val)\n",
    "        \n",
    "    return probs\n",
    "\n",
    "\n",
    "def estimate_transition(data, dgp):\n",
    "    \"\"\"Estimate the transition matrix based on the data.\n",
    "    \n",
    "        Parameters\n",
    "        ----------\n",
    "        data : `DataFrame`\n",
    "            The data that contains the actions and states.\n",
    "        dgp : `dgp`\n",
    "            The primitives of the DDC model.\n",
    "    \"\"\"\n",
    "    \n",
    "    # Estimate the parameters of the multinomial distribution\n",
    "    maintain_prob = estimate_transition_maintain(data, dgp)\n",
    "    \n",
    "    # Construct the transition matrix\n",
    "    transition_mat = transition(maintain_prob[range(dgp.J)], dgp.dx)\n",
    "    \n",
    "    return transition_mat"
   ]
  },
  {
   "cell_type": "markdown",
   "metadata": {},
   "source": [
    "The estimation procedure is coded as follows."
   ]
  },
  {
   "cell_type": "code",
   "execution_count": 91,
   "metadata": {},
   "outputs": [],
   "source": [
    "def likelihood_nfxp(θ, data, dgp):\n",
    "    \"\"\"The likelihood function for NFXP.\n",
    "        \n",
    "        Parameters\n",
    "        ----------\n",
    "        θ : `list`\n",
    "            The utility parameters.\n",
    "        data : `DataFrame`\n",
    "            The data that contains the actions and states.\n",
    "        dgp : `dgp`\n",
    "            The primitives of the DDC model.\n",
    "    \"\"\"\n",
    "    \n",
    "    # Get value functions from parameters\n",
    "    dgp_tmp = copy.copy(dgp)\n",
    "    dgp_tmp.u = utility_matrix(dgp.dx, dgp.J, θ)\n",
    "    V = vfi(dgp_tmp)\n",
    "    \n",
    "    # Get the choice probabilities\n",
    "    pr0 = prob_from_dgp(dgp_tmp, V)\n",
    "        \n",
    "    # Compute likelihood of data\n",
    "    l = likelihood(data, dgp_tmp, pr0)\n",
    "    \n",
    "    return l\n",
    "\n",
    "def likelihood(data, dgp, prob):\n",
    "    \"\"\"The likelihood function with the given choice probability\n",
    "    \n",
    "        Parameters\n",
    "        ----------\n",
    "        data : `DataFrame`\n",
    "            The data that contains the actions and states.\n",
    "        dgp : `dgp`\n",
    "            The primitives of the DDC model.\n",
    "        prob : `ndarray`\n",
    "            A matrix of choice probabilities.\n",
    "    \"\"\"\n",
    "    \n",
    "    # Compute likelihood of data\n",
    "    N = int(max(data.i))\n",
    "    T = int(max(data.t))\n",
    "    l = 0.\n",
    "    \n",
    "    for i in range(N):\n",
    "        for t in range(T):\n",
    "            condn = (data.i == i + 1) & (data.t == t + 1)\n",
    "            a = int(data.loc[condn].action.iloc[0])\n",
    "            x = int(data.loc[condn].state.iloc[0])\n",
    "            \n",
    "            # Append the right probability depending on the choice and state\n",
    "            l += np.log(prob[x, a]) \n",
    "            \n",
    "    return -l/(N*T)\n",
    "\n",
    "def nested_fixed_point(data, dgp):\n",
    "    \"\"\"The nested fixed-point algorithm.\n",
    "\n",
    "        Parameters\n",
    "        ----------\n",
    "        data : `DataFrame`\n",
    "            The data that contains the actions and states.\n",
    "        dgp : `dgp`\n",
    "            The primitives of the DDC model.\n",
    "    \"\"\"\n",
    "    def ll(x):\n",
    "        return likelihood_nfxp(x, data, dgp)\n",
    "    θ = minimize(ll, [0.1, 0.1])\n",
    "    \n",
    "    return θ"
   ]
  },
  {
   "cell_type": "markdown",
   "metadata": {},
   "source": [
    "Note that the procedure `nested_fixed_point` takes the transition matrices in `dgp` as given. As a result, we need to estimate the transition matrix using the given data before passing it to the function."
   ]
  },
  {
   "cell_type": "code",
   "execution_count": 73,
   "metadata": {},
   "outputs": [],
   "source": [
    "# Estimate transition matrix\n",
    "primitive_hat = copy.copy(primitive)\n",
    "primitive_hat.F = estimate_transition(df, primitive)"
   ]
  },
  {
   "cell_type": "markdown",
   "metadata": {},
   "source": [
    "Let's examine the solution of the NFXP."
   ]
  },
  {
   "cell_type": "code",
   "execution_count": 92,
   "metadata": {},
   "outputs": [
    {
     "name": "stdout",
     "output_type": "stream",
     "text": [
      "[-0.26989967  5.81706559]\n"
     ]
    }
   ],
   "source": [
    "# Estimate the parameters\n",
    "nfxp_out = nested_fixed_point(df, primitive_hat)\n",
    "print(nfxp_out.x)"
   ]
  },
  {
   "cell_type": "markdown",
   "metadata": {},
   "source": [
    "We can also compare the probability using the parameters implied by the NFXP against the true probabilities."
   ]
  },
  {
   "cell_type": "code",
   "execution_count": 93,
   "metadata": {
    "scrolled": true
   },
   "outputs": [
    {
     "data": {
      "text/plain": [
       "<matplotlib.legend.Legend at 0x13ef85f90>"
      ]
     },
     "execution_count": 93,
     "metadata": {},
     "output_type": "execute_result"
    },
    {
     "data": {
      "image/png": "[encoded data removed]",
      "text/plain": [
       "<Figure size 640x480 with 1 Axes>"
      ]
     },
     "metadata": {},
     "output_type": "display_data"
    }
   ],
   "source": [
    "primitive_nfxp = copy.copy(primitive_hat)\n",
    "primitive_nfxp.u = utility_matrix(dx, J, nfxp_out.x)\n",
    "v_nfxp = vfi(primitive_nfxp)\n",
    "p_nfxp = prob_from_dgp(primitive_nfxp, v_nfxp)\n",
    "\n",
    "fig, ax = plt.subplots()  \n",
    "xs = range(primitive.dx)\n",
    "ax.plot(xs, prob_maintain_true, label = 'True')\n",
    "ax.plot(xs, phat_maintain, label = 'Estimated from data')\n",
    "ax.plot(xs, p_nfxp[:, 0], label = 'Estimated from NFXP')\n",
    "ax.set_xlabel('State') \n",
    "ax.set_ylabel('Probability of maintaining engine')\n",
    "ax.legend()"
   ]
  },
  {
   "cell_type": "markdown",
   "metadata": {},
   "source": [
    "# Estimation 2: Conditional choice probability inversion\n",
    "\n",
    "**Reference: Chapter 2.3.2**\n",
    "\n",
    "- Let $\\widehat{\\text{Pr}}[a_t = j|x_t]$ and $\\widehat{v}_j(x_t)$ be the sample analogue of $\\text{Pr}[a_t = j|x_t; \\theta, \\varphi]$ and $\\overline{v}_j(x_t; \\theta, \\varphi)$ respectively. As noted in footnote 20, we do not index the sample analogue by $\\theta$ and $\\varphi$ because we estimate them from data.\n",
    "- Then, the sample analogue of the conditional choice probability can be written as\n",
    "  $$\n",
    "    \\widehat{\\mathrm{Pr}}[a_t = j | x_t]\n",
    "    = \\frac{\\exp(\\widehat{v}_j(x_t))}{\\sum_{k \\in \\mathcal{J}} \\exp(\\widehat{v}_k(x_t))}.\n",
    "  $$\n",
    "- Let $J$ be the reference choice, or outside option, in which we normalize $\\overline{v}_J(x_t; \\theta, \\varphi) = 0$. Then, using the above sample analogue representation, we can write\n",
    "  $$\n",
    "    \\ln \\left(\n",
    "        \\frac{\\widehat{\\text{Pr}}(a_t = j|x_t)}{\\widehat{\\text{Pr}}(a_t = J|x_t)}\n",
    "        \\right)\n",
    "        = \\widehat{v}_j(x_t) - \\underbrace{\\widehat{v}_J(x_t)}_{\\text{$=0$ by normalization}}.\n",
    "  $$\n",
    "- As a result, the maximum-likelihood estimator would proceed with the objective function\n",
    "  $$\n",
    "    \\sum_t \\sum_{j \\in \\mathcal{J}} \n",
    "      \\mathbf{1}(a_t = j|x_t)\n",
    "      \\log \\left\\{\n",
    "        \\frac{\\exp(\\overline{\\widehat{v}}_j(x_t; \\theta, \\varphi))}{\\sum_{k \\in \\mathcal{J}} \\exp( \\overline{\\widehat{v}}_k(x_t; \\theta, \\varphi))}\n",
    "      \\right\\}\n",
    "  $$\n",
    "  where\n",
    "  $$\n",
    "    \\overline{\\widehat{v}}_j(x_t; \\theta, \\varphi)\n",
    "      - \\overline{\\widehat{v}}_J(x_t; \\theta, \\varphi)\n",
    "      = \\overline{u}_j(x_t; \\theta) - \\overline{u}_J(x_t; \\theta)\n",
    "      + \\beta \\int \\ln \\left(\n",
    "          \\sum_{k \\in \\mathcal{J}}\n",
    "              \\exp(\\widehat{v}_k(x_{t+1}))\n",
    "          \\right)\n",
    "          \\left\\{\n",
    "            \\mathrm{Pr}(dx_{t+1}|x_t, a_t = j, \\varphi)\n",
    "            - \\mathrm{Pr}(dx_{t+1}|x_t, a_t = J, \\varphi)\n",
    "          \\right\\}.\n",
    "  $$"
   ]
  },
  {
   "cell_type": "markdown",
   "metadata": {},
   "source": [
    "The following function estimates $\\widetilde{v}_a(x)$ based on the choice probability being estimated from before."
   ]
  },
  {
   "cell_type": "code",
   "execution_count": 76,
   "metadata": {},
   "outputs": [],
   "source": [
    "def csvf_from_ccp(dgp, phat):\n",
    "    \"\"\"Estimates choice-specific value function from choice probabilities.\n",
    "    \n",
    "        The choice-specific value function of the last action is normalized to 0.\n",
    "                \n",
    "        Parameters\n",
    "        ----------\n",
    "        dgp : `dgp`\n",
    "            The primitives of the DDC model.\n",
    "        phat : `ndarray`\n",
    "            The matrix of estimated choice probabilities.\n",
    "    \"\"\"\n",
    "\n",
    "    # implement this function"
   ]
  },
  {
   "cell_type": "markdown",
   "metadata": {},
   "source": [
    "Using the above function, one can implement the two-step method by maximizing the likelihood."
   ]
  },
  {
   "cell_type": "code",
   "execution_count": 77,
   "metadata": {},
   "outputs": [],
   "source": [
    "def likelihood_two_step_ccp(θ, data, dgp, phat):\n",
    "    \"\"\"The likelihood function for the two-step method.\n",
    "        \n",
    "        Parameters\n",
    "        ----------\n",
    "        θ : `list`\n",
    "            The utility parameters.\n",
    "        data : `DataFrame`\n",
    "            The data that contains the actions and states.\n",
    "        dgp : `dgp`\n",
    "            The primitives of the DDC model.\n",
    "        phat : `ndarray`\n",
    "            The matrix of estimated choice probabilities.\n",
    "    \"\"\"\n",
    "\n",
    "    # implement this function\n",
    "    \n",
    "def two_step_ccp(data, dgp):\n",
    "    \"\"\"The two-step CCP approach.\n",
    "\n",
    "        Parameters\n",
    "        ----------\n",
    "        data : `DataFrame`\n",
    "            The data that contains the actions and states.\n",
    "        dgp : `dgp`\n",
    "            The primitives of the DDC model.\n",
    "    \"\"\"\n",
    "    \n",
    "    # implement this function"
   ]
  },
  {
   "cell_type": "markdown",
   "metadata": {},
   "source": [
    "# Estimation 3: Nested pseudo-likelihood\n",
    "\n",
    "**Reference: chapter 2.3.3**\n",
    "\n",
    "- Consider a slightly different notion of value function here together with the assumption that the error term follows a mean-0 T1EV distribution:\n",
    "  $$\n",
    "    \\overline{\\overline{v}}(x_t; \\theta, \\varphi)\n",
    "    = \\sum_{j \\in \\mathcal{J}}\n",
    "        \\text{Pr}(a_t = j|x_t; \\theta, \\varphi)\n",
    "        \\left\\{\n",
    "            \\overline{u}_j(x_t; \\theta) \n",
    "            - \\ln \\mathrm{Pr}(a_t = j|x_t; \\theta, \\varphi)\n",
    "            + \\beta \\sum_{x' \\in \\mathcal{X}}\n",
    "                \\overline{v}(x_{t+1} = x'; \\theta, \\varphi)\n",
    "                \\text{Pr}(x_{t+1} = x'|x_t, a_t = j; \\varphi)\n",
    "        \\right\\}.\n",
    "  $$\n",
    "\n",
    "- By stacking the terms over the states and actions, we obtain a matrix equation where\n",
    "  $$\n",
    "    \\overline{\\overline{v}}(x_t; \\theta, \\varphi)\n",
    "    = [\\mathbf{I} - \\beta \\mathbf{P}(x_{t+1}|x_t; \\theta, \\varphi)]^{-1}\n",
    "    \\mathbf{w}(a_t, x_t; \\theta, \\varphi),\n",
    "  $$\n",
    "  where\n",
    "    - $\\mathbf{w}(a_t, x_t; \\theta, \\varphi)\n",
    "        := \\begin{pmatrix}\n",
    "            \\mathbf{p}(a_t|1; \\theta, \\varphi)'(\\overline{\\mathbf{u}}(x_t = 1; \\theta) - \\ln \\mathbf{p}(a_t|1; \\theta, \\varphi) \\\\ \n",
    "            \\mathbf{p}(a_t|2; \\theta, \\varphi)'(\\overline{\\mathbf{u}}(x_t = 2; \\theta) - \\ln \\mathbf{p}(a_t|2; \\theta, \\varphi) \\\\ \n",
    "            \\vdots \\\\\n",
    "            \\mathbf{p}(a_t|X; \\theta, \\varphi)'(\\overline{\\mathbf{u}}(x_t = X; \\theta) - \\ln \\mathbf{p}(a_t|X; \\theta, \\varphi) \n",
    "        \\end{pmatrix}$.\n",
    "    - $\\mathbf{p}(a_t|1, \\theta, \\varphi)\n",
    "          :=\n",
    "          \\begin{pmatrix}\n",
    "              \\text{Pr}(1|1; \\theta, \\varphi) \\\\ \n",
    "              \\text{Pr}(2|1; \\theta, \\varphi) \\\\\n",
    "              \\vdots \\\\ \n",
    "              \\text{Pr}(J|1; \\theta, \\varphi)\n",
    "          \\end{pmatrix}$.\n",
    "    - $\\mathbf{P}(x_{t+1}|1, a_t; \\varphi)\n",
    "          :=\n",
    "          \\begin{pmatrix}\n",
    "             \\text{Pr}(1|1,1;\\varphi) & \n",
    "             \\text{Pr}(2|1,1;\\varphi) & \n",
    "             \\cdots & \n",
    "             \\text{Pr}(X|1,1;\\varphi) \\\\ \n",
    "             \\text{Pr}(1|1,2;\\varphi) & \n",
    "             \\text{Pr}(2|1,2;\\varphi) & \n",
    "             \\cdots & \n",
    "             \\text{Pr}(X|1,2;\\varphi) \\\\\n",
    "             \\vdots & \\vdots & \\ddots & \\vdots \\\\\n",
    "             \\text{Pr}(1|1,J;\\varphi) & \n",
    "             \\text{Pr}(2|1,J;\\varphi) & \n",
    "             \\cdots & \n",
    "             \\text{Pr}(X|1,J;\\varphi) \n",
    "          \\end{pmatrix}\n",
    "          $.\n",
    "- The $K$-stage policy iteration estimator works as follows. Let $\\mathbf{P}^{K-1}(a_t|x_t; \\theta, \\widehat{\\varphi})$ be the guess of $\\mathbf{P}$ in the $(K-1)$-th step. With the given guess, we want to obtain\n",
    "  $$\n",
    "    \\widehat{\\theta}^K\n",
    "    = \\text{arg max}_{\\theta} \\prod_i\n",
    "        \\mathcal{L}_i\\left(\n",
    "            \\Psi(\n",
    "                \\mathbf{P}^{K-1}(a_t|x_t; \\theta, \\widehat\\varphi)\n",
    "            )\n",
    "        \\right),\n",
    "  $$\n",
    "  where $\\mathcal{L}_i(\\cdot)$ denotes the likelihood induced by the argument. The second step is to update $\\mathbf{P}$ via\n",
    "  $$\n",
    "    \\mathbf{P}^K(a_t|x_t;\\theta,\\widehat{\\varphi})\n",
    "    = \\Psi(\\mathbf{P}^{K-1}(a_t|x_t; \\widehat{\\theta}^K, \\widehat{\\varphi}).\n",
    "  $$"
   ]
  },
  {
   "cell_type": "code",
   "execution_count": 89,
   "metadata": {},
   "outputs": [],
   "source": [
    "def estimate_unconditional_transition(dgp, phat):\n",
    "    \"\"\"Estimate the unconditional transition matrix.\n",
    "    \n",
    "        Parameters\n",
    "        ----------\n",
    "        dgp : `dgp`\n",
    "            The primitives of the DDC model.\n",
    "        phat : `ndarray`\n",
    "            The matrix of estimated choice probabilities.\n",
    "    \"\"\"\n",
    "\n",
    "    P = np.zeros((dgp.dx, dgp.dx))\n",
    "    for a in range(dgp.J):\n",
    "        P += dgp.F[a] * np.transpose([phat[:, a] for i in range(dgp.dx)])# Note: this is incorrect???\n",
    "        \n",
    "    return P\n",
    "\n",
    "def nested_pseudo_likelihood_k(dgp, phat):\n",
    "    \"\"\"Step k of the nested pseudo likelihood method.\n",
    "    \n",
    "        Parameters\n",
    "        ----------\n",
    "        dgp : `dgp`\n",
    "            The primitives of the DDC model.\n",
    "        phat : `ndarray`\n",
    "            The matrix of estimated choice probabilities.\n",
    "    \"\"\"\n",
    "        \n",
    "    # Get the \"w\" function\n",
    "    epsilon = 1e-10  # or a similarly small number\n",
    "    what = np.sum(phat * (dgp.u - np.log(phat + epsilon)), axis=1)\n",
    "    \n",
    "    # Compute \\bar{V} for the value function\n",
    "    I = np.eye(dgp.dx)\n",
    "    P = estimate_unconditional_transition(dgp, phat)\n",
    "    inv_factor = np.linalg.inv(I - dgp.β * P)\n",
    "    vbar = inv_factor @ what\n",
    "    \n",
    "    # Recover the choice-specific value function\n",
    "    pnew = prob_from_dgp(dgp, vbar)\n",
    "    \n",
    "    return pnew\n"
   ]
  },
  {
   "cell_type": "markdown",
   "metadata": {},
   "source": [
    "The likelihood for the nested pseudo likelihood method uses the updated $\\widehat P^K$ to construct an updated $\\widehat V^K$, which is subsequently used to construct the choice probability in the objective. "
   ]
  },
  {
   "cell_type": "code",
   "execution_count": 79,
   "metadata": {},
   "outputs": [],
   "source": [
    "def likelihood_npl(θ, data, dgp, phat):\n",
    "    \"\"\"The likelihood function for the two-step method.\n",
    "        \n",
    "        Parameters\n",
    "        ----------\n",
    "        θ : `list`\n",
    "            The utility parameters.\n",
    "        data : `DataFrame`\n",
    "            The data that contains the actions and states.\n",
    "        dgp : `dgp`\n",
    "            The primitives of the DDC model.\n",
    "        phat : `ndarray`\n",
    "            The matrix of estimated choice probabilities.\n",
    "    \"\"\"\n",
    "    # Get the utility function based on the parameters\n",
    "    dgp_tmp = copy.copy(dgp)\n",
    "    dgp_tmp.u = utility_matrix(dgp.dx, dgp.J, θ)\n",
    "    \n",
    "    # Get the probability\n",
    "    pk = nested_pseudo_likelihood_k(dgp_tmp, phat)\n",
    "        \n",
    "    # Compute likelihood of data\n",
    "    l = likelihood(data, dgp_tmp, pk)\n",
    "    \n",
    "    return l\n",
    "\n",
    "def nested_pseudo_likelihood(data, dgp, phat, K):\n",
    "    \"\"\"Run the nested pseudo likelihood method with K iterations.\n",
    "        \n",
    "        Parameters\n",
    "        ----------\n",
    "        data : `DataFrame`\n",
    "            The data that contains the actions and states.\n",
    "        dgp : `dgp`\n",
    "            The primitives of the DDC model.\n",
    "        phat : `ndarray`\n",
    "            The matrix of estimated choice probabilities.\n",
    "        K : `int`\n",
    "            The number of iterations for the nested pseudo likelihood method.\n",
    "    \"\"\"\n",
    "    \n",
    "    pk = copy.copy(phat)\n",
    "    dgpk = copy.copy(dgp)\n",
    "    \n",
    "    for i in range(K):\n",
    "        \n",
    "        def ll(x):\n",
    "            return likelihood_npl(x, data, dgpk, pk)\n",
    "        θiter = minimize(ll, [0.1, 0.1]).x\n",
    "        \n",
    "        dgpk.u = utility_matrix(dgp.dx, dgp.J, θiter)\n",
    "        \n",
    "        pk = nested_pseudo_likelihood_k(dgpk, pk)\n",
    "        \n",
    "        if i == K - 1:\n",
    "            return pk, θiter"
   ]
  },
  {
   "cell_type": "markdown",
   "metadata": {},
   "source": [
    "Let's see the result when we iterate it for $K=10$ times."
   ]
  },
  {
   "cell_type": "code",
   "execution_count": 90,
   "metadata": {
    "scrolled": true
   },
   "outputs": [
    {
     "name": "stderr",
     "output_type": "stream",
     "text": [
      "/var/folders/82/sbnh68fj6qb2y53g99j9bvf80000gn/T/ipykernel_3263/446637203.py:48: FutureWarning: Calling int on a single element Series is deprecated and will raise a TypeError in the future. Use int(ser.iloc[0]) instead\n",
      "  a = int(data.loc[condn].action)\n",
      "/var/folders/82/sbnh68fj6qb2y53g99j9bvf80000gn/T/ipykernel_3263/446637203.py:49: FutureWarning: Calling int on a single element Series is deprecated and will raise a TypeError in the future. Use int(ser.iloc[0]) instead\n",
      "  x = int(data.loc[condn].state)\n"
     ]
    },
    {
     "data": {
      "text/plain": [
       "array([-0.26990158,  5.81712413])"
      ]
     },
     "execution_count": 90,
     "metadata": {},
     "output_type": "execute_result"
    }
   ],
   "source": [
    "K = 10\n",
    "npl_out = nested_pseudo_likelihood(df, primitive_hat, phat, 10)\n",
    "npl_out[1]"
   ]
  },
  {
   "cell_type": "markdown",
   "metadata": {},
   "source": [
    "# Estimation 4: MPEC\n",
    "\n",
    "**Reference: chapter 2.3.1.4**\n",
    "\n",
    "The problem can be implemented as a constrained optimization problem, where we maximize the likelihood subject to the value functions as constraints."
   ]
  },
  {
   "cell_type": "code",
   "execution_count": 81,
   "metadata": {},
   "outputs": [],
   "source": [
    "def mpec(data, dgp):\n",
    "    # Initial parameters\n",
    "    dx = dgp.dx + 2\n",
    "    \n",
    "    # Define objective\n",
    "    def mpec_objective(x):\n",
    "        θ = x[range(2)]\n",
    "        v = x[range(2, dx)]\n",
    "        \n",
    "        dgp_tmp = copy.copy(dgp)\n",
    "        dgp_tmp.u = utility_matrix(dgp.dx, dgp.J, θ)\n",
    "\n",
    "        prob = prob_from_dgp(dgp_tmp, v)\n",
    "        ll = likelihood(data, dgp, prob)\n",
    "        return ll\n",
    "    \n",
    "    # Define equality constraints\n",
    "    def mpec_value_constraints(x):\n",
    "        v = x[range(2, dx)]\n",
    "        return v - vf(csvf(dgp, v))\n",
    "    \n",
    "    # Define lower bound on value functions\n",
    "    def mpec_lb_constraint(x):\n",
    "        v = x[range(2, dx)]\n",
    "        return v\n",
    "        \n",
    "    # Dictionary of constraints\n",
    "    c = [ {'type': 'eq', 'fun': mpec_value_constraints},\n",
    "          {'type': 'ineq', 'fun': mpec_lb_constraint}]\n",
    "        \n",
    "    # Initial point\n",
    "    x0 = np.concatenate((np.array([.1, .1]), np.zeros(dgp.dx)))\n",
    "    \n",
    "    return minimize_ipopt(mpec_objective, \\\n",
    "                          x0 = x0, \\\n",
    "                          constraints = c,\n",
    "                          options = {\"acceptable_tol\": 1e-8})"
   ]
  },
  {
   "cell_type": "code",
   "execution_count": 82,
   "metadata": {},
   "outputs": [
    {
     "name": "stderr",
     "output_type": "stream",
     "text": [
      "/var/folders/82/sbnh68fj6qb2y53g99j9bvf80000gn/T/ipykernel_3263/446637203.py:48: FutureWarning: Calling int on a single element Series is deprecated and will raise a TypeError in the future. Use int(ser.iloc[0]) instead\n",
      "  a = int(data.loc[condn].action)\n",
      "/var/folders/82/sbnh68fj6qb2y53g99j9bvf80000gn/T/ipykernel_3263/446637203.py:49: FutureWarning: Calling int on a single element Series is deprecated and will raise a TypeError in the future. Use int(ser.iloc[0]) instead\n",
      "  x = int(data.loc[condn].state)\n"
     ]
    },
    {
     "name": "stdout",
     "output_type": "stream",
     "text": [
      "\n",
      "******************************************************************************\n",
      "This program contains Ipopt, a library for large-scale nonlinear optimization.\n",
      " Ipopt is released as open source code under the Eclipse Public License (EPL).\n",
      "         For more information visit https://github.com/coin-or/Ipopt\n",
      "******************************************************************************\n",
      "\n",
      "[-0.3471988   5.43168883]\n"
     ]
    }
   ],
   "source": [
    "r = mpec(df, primitive_hat)\n",
    "print(r.x[range(2)])"
   ]
  },
  {
   "cell_type": "markdown",
   "metadata": {},
   "source": [
    "Gradients can be passed explicitly to the above solver to reduce computational time."
   ]
  },
  {
   "cell_type": "markdown",
   "metadata": {},
   "source": [
    "# Summary\n",
    "\n",
    "Finally, let's collect everything in one function."
   ]
  },
  {
   "cell_type": "code",
   "execution_count": 83,
   "metadata": {},
   "outputs": [],
   "source": [
    "def solve_ddc(data, dgp, method, K):\n",
    "    \"\"\"Solves a DDC model.\n",
    "        \n",
    "        Parameters\n",
    "        ----------\n",
    "        data : `DataFrame`\n",
    "            The data that contains the actions and states.\n",
    "        dgp : `dgp`\n",
    "            The primitives of the DDC model.\n",
    "        method : `string`\n",
    "            The solution method.\n",
    "        K : `int`\n",
    "            The number of iterations for the nested pseudo likelihood method.\n",
    "            This argument is used only when we use the \"npl\" method.\n",
    "    \"\"\"\n",
    "    \n",
    "    if method == \"nfxp\":\n",
    "        out = nested_fixed_point(data, dgp)\n",
    "    elif method == \"two step\":\n",
    "        out = two_step_ccp(data, dgp)\n",
    "    elif method == \"npl\":\n",
    "        phat = estimate_ccp(data, dgp)\n",
    "        out = nested_pseudo_likelihood(data, dgp, phat, K)\n",
    "    elif method == \"mpec\":\n",
    "        out = mpec(data, dgp)\n",
    "    return out"
   ]
  },
  {
   "cell_type": "code",
   "execution_count": 84,
   "metadata": {},
   "outputs": [
    {
     "data": {
      "image/png": "[encoded data removed]",
      "text/plain": [
       "<Figure size 640x480 with 1 Axes>"
      ]
     },
     "metadata": {},
     "output_type": "display_data"
    }
   ],
   "source": [
    "# Example: try different parameter combinations\n",
    "params = [\n",
    "    {\"beta\": 0.95, \"theta\": [-0.2, 5]},\n",
    "    {\"beta\": 0.95, \"theta\": [-0.5, 5]},   # lower maintenance cost (more negative theta1)\n",
    "    {\"beta\": 0.95, \"theta\": [-0.2, 7]},   # higher replacement cost (theta2)\n",
    "    {\"beta\": 0.99, \"theta\": [-0.2, 5]},   # more patient agent\n",
    "]\n",
    "\n",
    "fig, ax = plt.subplots()\n",
    "xs = np.arange(primitive.dx)\n",
    "\n",
    "for p in params:\n",
    "    beta = p[\"beta\"]\n",
    "    theta = p[\"theta\"]\n",
    "    # Create a new primitive with these parameters.\n",
    "    umat_new = utility_matrix(dx, J, theta)\n",
    "    prim_new = dgp(beta, umat_new, F, dx, J)\n",
    "    V_new = vfi(prim_new)\n",
    "    prob_new = prob_from_dgp(prim_new, V_new)\n",
    "    # Here, action 0 is \"maintain the engine.\"\n",
    "    ax.plot(xs, prob_new[:, 0], marker='o', label=f\"β={beta}, θ={theta}\")\n",
    "\n",
    "ax.set_xlabel(\"Mileage (State)\")\n",
    "ax.set_ylabel(\"Pr(maintain engine)\")\n",
    "ax.legend()\n",
    "plt.show()"
   ]
  },
  {
   "cell_type": "code",
   "execution_count": 96,
   "metadata": {},
   "outputs": [],
   "source": [
    "def csvf_from_ccp(dgp, phat):\n",
    "    \"\"\"\n",
    "    Recover the choice-specific value functions from the estimated CCPs.\n",
    "    We take the last alternative (j = dgp.J - 1) as the reference, so that\n",
    "    v_ref(x) = 0 and for j != ref, v(x,j) = ln(phat(x,j)) - ln(phat(x,ref)).\n",
    "    \"\"\"\n",
    "    v_est = np.zeros((dgp.dx, dgp.J))\n",
    "    ref = dgp.J - 1\n",
    "    for x in range(dgp.dx):\n",
    "        for j in range(dgp.J):\n",
    "            if j != ref:\n",
    "                epsilon = 1e-10  # A small constant\n",
    "                v_est[x, j] = np.log(phat[x, j] + epsilon) - np.log(phat[x, ref] + epsilon)\n",
    "            else:\n",
    "                v_est[x, j] = 0.0\n",
    "    return v_est\n",
    "\n",
    "def likelihood_two_step_ccp(theta, data, dgp, phat):\n",
    "    \"\"\"\n",
    "    Likelihood function for the two-step CCP inversion method.\n",
    "    Given theta, compute the model-implied differences in the choice-specific\n",
    "    value functions and then compute the likelihood based on the softmax form.\n",
    "    \"\"\"\n",
    "    # Compute the flow utility matrix under theta.\n",
    "    u_mat = utility_matrix(dgp.dx, dgp.J, theta)\n",
    "    ref = dgp.J - 1\n",
    "\n",
    "    # First, recover the estimated value functions from the nonparametric CCPs.\n",
    "    v_hat = csvf_from_ccp(dgp, phat)\n",
    "    \n",
    "    # For each state, compute the model-implied difference in value functions:\n",
    "    # We have\n",
    "    #   v_model(x,j) = u(x,j) - u(x,ref) + β * [transition term],\n",
    "    # where the transition term is computed as:\n",
    "    v_model = np.zeros((dgp.dx, dgp.J))\n",
    "    for x in range(dgp.dx):\n",
    "        for j in range(dgp.J):\n",
    "            if j == ref:\n",
    "                v_model[x, j] = 0.0\n",
    "            else:\n",
    "                transition_diff = 0.0\n",
    "                # Here we sum over next states using the known transition matrices.\n",
    "                for x_next in range(dgp.dx):\n",
    "                    # Using v_hat, we compute the integrated continuation value\n",
    "                    w_val = np.log(np.sum(np.exp(v_hat[x_next, :])))\n",
    "                    # Difference in transition probabilities between alternative j and ref.\n",
    "                    transition_diff += (dgp.F[j][x, x_next] - dgp.F[ref][x, x_next]) * w_val\n",
    "                v_model[x, j] = u_mat[x, j] - u_mat[x, ref] + dgp.β * transition_diff\n",
    "\n",
    "    # Given the model-implied differences v_model, we can compute predicted CCPs via softmax.\n",
    "    predicted_probs = np.zeros((dgp.dx, dgp.J))\n",
    "    for x in range(dgp.dx):\n",
    "        exp_vals = np.exp(v_model[x, :])\n",
    "        predicted_probs[x, :] = exp_vals / np.sum(exp_vals)\n",
    "    \n",
    "    # Finally, compute the (negative) log-likelihood using the data.\n",
    "    ll = likelihood(data, dgp, predicted_probs)\n",
    "    return ll\n",
    "\n",
    "def two_step_ccp(data, dgp):\n",
    "    \"\"\"\n",
    "    Two-step CCP inversion estimator:\n",
    "    (1) Estimate CCPs from the data.\n",
    "    (2) Maximize the likelihood (which uses the CCP inversion) with respect to theta.\n",
    "    \"\"\"\n",
    "    phat = estimate_ccp(data, dgp)\n",
    "    result = minimize(lambda theta: likelihood_two_step_ccp(theta, data, dgp, phat),\n",
    "                      x0=[0.1, 0.1])\n",
    "    return result.x"
   ]
  },
  {
   "cell_type": "code",
   "execution_count": 97,
   "metadata": {},
   "outputs": [
    {
     "name": "stdout",
     "output_type": "stream",
     "text": [
      "Estimated theta (two-step): [-0.25821436  4.99855898]\n"
     ]
    },
    {
     "data": {
      "image/png": "[encoded data removed]",
      "text/plain": [
       "<Figure size 640x480 with 1 Axes>"
      ]
     },
     "metadata": {},
     "output_type": "display_data"
    }
   ],
   "source": [
    "# Set true parameters\n",
    "theta_true = [-0.2, 5]\n",
    "beta_true = 0.95\n",
    "umat_true = utility_matrix(dx, J, theta_true)\n",
    "primitive_true = dgp(beta_true, umat_true, F, dx, J)\n",
    "v_true = vfi(primitive_true)\n",
    "prob_true = prob_from_dgp(primitive_true, v_true)\n",
    "\n",
    "# Simulate data:\n",
    "N = 30; T = 30\n",
    "np.random.seed(1)\n",
    "df_sim = draw(primitive_true, v_true, N, T)\n",
    "\n",
    "# Estimate using the two-step CCP inversion method:\n",
    "theta_est = two_step_ccp(df_sim, primitive_true)\n",
    "print(\"Estimated theta (two-step):\", theta_est)\n",
    "\n",
    "# Using the estimated theta, compute the implied CCP's:\n",
    "umat_est = utility_matrix(dx, J, theta_est)\n",
    "primitive_est = dgp(beta_true, umat_est, F, dx, J)\n",
    "v_est = vfi(primitive_est)\n",
    "prob_est = prob_from_dgp(primitive_est, v_est)\n",
    "\n",
    "# Plot the probabilities of maintaining (action 0)\n",
    "fig, ax = plt.subplots()\n",
    "xs = np.arange(dx)\n",
    "ax.plot(xs, prob_true[:, 0], 'o-', label=\"True CCP\")\n",
    "ax.plot(xs, prob_est[:, 0], 's--', label=\"Estimated CCP (2-step)\")\n",
    "ax.set_xlabel(\"Mileage (State)\")\n",
    "ax.set_ylabel(\"Pr(maintain engine)\")\n",
    "ax.legend()\n",
    "plt.show()"
   ]
  },
  {
   "cell_type": "code",
   "execution_count": 99,
   "metadata": {},
   "outputs": [
    {
     "name": "stdout",
     "output_type": "stream",
     "text": [
      "NFXP estimated theta: [-0.27103871  5.8225678 ]\n",
      "NFXP runtime: 8.1379 seconds\n",
      "--------------------------------------------------\n",
      "NPL estimated theta: [-0.27103812  5.8225782 ]\n",
      "NPL runtime: 94.7935 seconds\n",
      "--------------------------------------------------\n",
      "MPEC estimated theta: [-0.34809633  5.43107694]\n",
      "MPEC runtime: 119.3358 seconds\n"
     ]
    }
   ],
   "source": [
    "import time\n",
    "\n",
    "# --- NFXP ---\n",
    "start_nfxp = time.time()\n",
    "nfxp_out = nested_fixed_point(df_sim, primitive_true)\n",
    "end_nfxp = time.time()\n",
    "print(\"NFXP estimated theta:\", nfxp_out.x)\n",
    "print(\"NFXP runtime: {:.4f} seconds\".format(end_nfxp - start_nfxp))\n",
    "print(\"-\" * 50)\n",
    "\n",
    "# --- NPL ---\n",
    "start_npl = time.time()\n",
    "phat_sim = estimate_ccp(df_sim, primitive_true)\n",
    "K = 20\n",
    "pk_final, theta_npl = nested_pseudo_likelihood(df_sim, primitive_true, phat_sim, K)\n",
    "end_npl = time.time()\n",
    "print(\"NPL estimated theta:\", theta_npl)\n",
    "print(\"NPL runtime: {:.4f} seconds\".format(end_npl - start_npl))\n",
    "print(\"-\" * 50)\n",
    "\n",
    "# --- MPEC ---\n",
    "start_mpec = time.time()\n",
    "mpec_out = mpec(df_sim, primitive_true)\n",
    "end_mpec = time.time()\n",
    "print(\"MPEC estimated theta:\", mpec_out.x[:2])\n",
    "print(\"MPEC runtime: {:.4f} seconds\".format(end_mpec - start_mpec))"
   ]
  }
 ],
 "metadata": {
  "kernelspec": {
   "display_name": "Python 3",
   "language": "python",
   "name": "python3"
  },
  "language_info": {
   "codemirror_mode": {
    "name": "ipython",
    "version": 3
   },
   "file_extension": ".py",
   "mimetype": "text/x-python",
   "name": "python",
   "nbconvert_exporter": "python",
   "pygments_lexer": "ipython3",
   "version": "3.13.1"
  }
 },
 "nbformat": 4,
 "nbformat_minor": 4
}
